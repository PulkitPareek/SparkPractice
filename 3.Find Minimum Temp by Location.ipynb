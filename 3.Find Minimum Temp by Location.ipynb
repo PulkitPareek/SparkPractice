{
 "cells": [
  {
   "cell_type": "markdown",
   "metadata": {},
   "source": [
    "# Find minimum Temperature by Location from Weather Data"
   ]
  },
  {
   "cell_type": "markdown",
   "metadata": {},
   "source": [
    "### RDD Approach"
   ]
  },
  {
   "cell_type": "code",
   "execution_count": 7,
   "metadata": {},
   "outputs": [],
   "source": [
    "val lines = sc.textFile(\"/Users/pulkit/data/1800.csv\")"
   ]
  },
  {
   "cell_type": "code",
   "execution_count": 27,
   "metadata": {},
   "outputs": [],
   "source": [
    "val wSMin = lines.map(x => { val y = x.split(\",\")\n",
    "                                (y(0).toString,y(2).toString,y(3).toInt) }\n",
    "                                ).\n",
    "                                filter( x => x._2 ==\"TMIN\").\n",
    "                                map(x => (x._1,x._3.toFloat))"
   ]
  },
  {
   "cell_type": "code",
   "execution_count": 33,
   "metadata": {},
   "outputs": [],
   "source": [
    "import scala.math.min\n",
    "\n",
    "val wS = wSMin.reduceByKey((x,y) => min(x,y)).sortBy(x => x._2)"
   ]
  },
  {
   "cell_type": "code",
   "execution_count": 34,
   "metadata": {},
   "outputs": [
    {
     "name": "stdout",
     "output_type": "stream",
     "text": [
      "(ITE00100554,-148.0)\n",
      "(EZE00100082,-135.0)\n"
     ]
    }
   ],
   "source": [
    "val result = wS.take(5).foreach(println)"
   ]
  },
  {
   "cell_type": "markdown",
   "metadata": {},
   "source": [
    "### DataFrame Approach"
   ]
  },
  {
   "cell_type": "code",
   "execution_count": 37,
   "metadata": {},
   "outputs": [],
   "source": [
    "import org.apache.spark.sql.functions._\n",
    "import org.apache.spark.sql.functions.col\n",
    "val spark2 = spark\n",
    "import spark2.implicits._\n",
    "\n",
    "\n",
    "\n",
    "val wdf = spark2.read.\n",
    "                    format(\"csv\").\n",
    "                    option(\"header\",\"false\").\n",
    "                    load(\"/Users/pulkit/data/1800.csv\")\n",
    "\n"
   ]
  },
  {
   "cell_type": "code",
   "execution_count": 38,
   "metadata": {},
   "outputs": [
    {
     "name": "stdout",
     "output_type": "stream",
     "text": [
      "+-----------+--------+----+----+----+----+---+----+\n",
      "|        _c0|     _c1| _c2| _c3| _c4| _c5|_c6| _c7|\n",
      "+-----------+--------+----+----+----+----+---+----+\n",
      "|ITE00100554|18000101|TMAX| -75|null|null|  E|null|\n",
      "|ITE00100554|18000101|TMIN|-148|null|null|  E|null|\n",
      "|GM000010962|18000101|PRCP|   0|null|null|  E|null|\n",
      "|EZE00100082|18000101|TMAX| -86|null|null|  E|null|\n",
      "+-----------+--------+----+----+----+----+---+----+\n",
      "only showing top 4 rows\n",
      "\n"
     ]
    }
   ],
   "source": [
    "wdf.show(4)"
   ]
  },
  {
   "cell_type": "code",
   "execution_count": 58,
   "metadata": {},
   "outputs": [],
   "source": [
    "val wMaxTemp = wdf.select($\"_c0\".as(\"Station\"),$\"_c2\".as(\"TempType\"),$\"_c3\".as(\"Temperature\")).\n",
    "                                where($\"TempType\"===\"TMIN\").\n",
    "                                groupBy($\"Station\").agg(max($\"Temperature\")).\n",
    "                                withColumnRenamed(\"max(Temperature)\", \"MaxTemp\")"
   ]
  },
  {
   "cell_type": "code",
   "execution_count": 59,
   "metadata": {},
   "outputs": [
    {
     "name": "stdout",
     "output_type": "stream",
     "text": [
      "+-----------+-------+\n",
      "|    Station|MaxTemp|\n",
      "+-----------+-------+\n",
      "|ITE00100554|     99|\n",
      "|EZE00100082|     99|\n",
      "+-----------+-------+\n",
      "\n"
     ]
    }
   ],
   "source": [
    "wMaxTemp.show()"
   ]
  },
  {
   "cell_type": "code",
   "execution_count": null,
   "metadata": {},
   "outputs": [],
   "source": []
  }
 ],
 "metadata": {
  "kernelspec": {
   "display_name": "Apache Toree - Scala",
   "language": "scala",
   "name": "apache_toree_scala"
  },
  "language_info": {
   "file_extension": ".scala",
   "name": "scala",
   "version": "2.11.8"
  }
 },
 "nbformat": 4,
 "nbformat_minor": 2
}
