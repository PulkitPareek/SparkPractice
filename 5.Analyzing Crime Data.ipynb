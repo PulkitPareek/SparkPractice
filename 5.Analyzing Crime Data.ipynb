{
 "cells": [
  {
   "cell_type": "code",
   "execution_count": 22,
   "metadata": {},
   "outputs": [],
   "source": [
    "import org.apache.spark.sql.functions._\n",
    "import org.apache.spark.sql.functions.col\n",
    "import org.apache.spark.sql.functions.udf\n",
    "val spark2 = spark\n",
    "import spark2.implicits._\n",
    "\n",
    "\n",
    "\n",
    "val crimedf = spark2.read.\n",
    "                    format(\"csv\").\n",
    "                    option(\"header\",\"true\").\n",
    "                    load(\"/Users/pulkit/data/crime.csv\")"
   ]
  },
  {
   "cell_type": "code",
   "execution_count": 5,
   "metadata": {},
   "outputs": [
    {
     "name": "stdout",
     "output_type": "stream",
     "text": [
      "+--------+-----------+----------------------+-----------------------------------+----+----------------------+----------------------------+------------------------------+------+--------+----+--------+----+--------------+--------+------------+------------+----+----------------------+------------+-------------+-----------------------------+\n",
      "|ID      |Case Number|Date                  |Block                              |IUCR|Primary Type          |Description                 |Location Description          |Arrest|Domestic|Beat|District|Ward|Community Area|FBI Code|X Coordinate|Y Coordinate|Year|Updated On            |Latitude    |Longitude    |Location                     |\n",
      "+--------+-----------+----------------------+-----------------------------------+----+----------------------+----------------------------+------------------------------+------+--------+----+--------+----+--------------+--------+------------+------------+----+----------------------+------------+-------------+-----------------------------+\n",
      "|10000092|HY189866   |03/18/2015 07:44:00 PM|047XX W OHIO ST                    |041A|BATTERY               |AGGRAVATED: HANDGUN         |STREET                        |false |false   |1111|011     |28  |25            |04B     |1144606     |1903566     |2015|02/10/2018 03:50:01 PM|41.891398861|-87.744384567|(41.891398861, -87.744384567)|\n",
      "|10000094|HY190059   |03/18/2015 11:00:00 PM|066XX S MARSHFIELD AVE             |4625|OTHER OFFENSE         |PAROLE VIOLATION            |STREET                        |true  |false   |0725|007     |15  |67            |26      |1166468     |1860715     |2015|02/10/2018 03:50:01 PM|41.773371528|-87.665319468|(41.773371528, -87.665319468)|\n",
      "|10000095|HY190052   |03/18/2015 10:45:00 PM|044XX S LAKE PARK AVE              |0486|BATTERY               |DOMESTIC BATTERY SIMPLE     |APARTMENT                     |false |true    |0222|002     |4   |39            |08B     |1185075     |1875622     |2015|02/10/2018 03:50:01 PM|41.81386068 |-87.596642837|(41.81386068, -87.596642837) |\n",
      "|10000096|HY190054   |03/18/2015 10:30:00 PM|051XX S MICHIGAN AVE               |0460|BATTERY               |SIMPLE                      |APARTMENT                     |false |false   |0225|002     |3   |40            |08B     |1178033     |1870804     |2015|02/10/2018 03:50:01 PM|41.800802415|-87.622619343|(41.800802415, -87.622619343)|\n",
      "|10000097|HY189976   |03/18/2015 09:00:00 PM|047XX W ADAMS ST                   |031A|ROBBERY               |ARMED: HANDGUN              |SIDEWALK                      |false |false   |1113|011     |28  |25            |03      |1144920     |1898709     |2015|02/10/2018 03:50:01 PM|41.878064761|-87.743354013|(41.878064761, -87.743354013)|\n",
      "|10000098|HY190032   |03/18/2015 10:00:00 PM|049XX S DREXEL BLVD                |0460|BATTERY               |SIMPLE                      |APARTMENT                     |false |false   |0223|002     |4   |39            |08B     |1183018     |1872537     |2015|02/10/2018 03:50:01 PM|41.805443345|-87.604283976|(41.805443345, -87.604283976)|\n",
      "|10000099|HY190047   |03/18/2015 11:00:00 PM|070XX S MORGAN ST                  |0486|BATTERY               |DOMESTIC BATTERY SIMPLE     |APARTMENT                     |false |true    |0733|007     |17  |68            |08B     |1170859     |1858210     |2015|02/10/2018 03:50:01 PM|41.766402779|-87.649296123|(41.766402779, -87.649296123)|\n",
      "|10000100|HY189988   |03/18/2015 09:35:00 PM|042XX S PRAIRIE AVE                |0486|BATTERY               |DOMESTIC BATTERY SIMPLE     |APARTMENT                     |false |true    |0213|002     |3   |38            |08B     |1178746     |1876914     |2015|02/10/2018 03:50:01 PM|41.817552577|-87.619818523|(41.817552577, -87.619818523)|\n",
      "|10000101|HY190020   |03/18/2015 10:09:00 PM|036XX S WOLCOTT AVE                |1811|NARCOTICS             |POSS: CANNABIS 30GMS OR LESS|STREET                        |true  |false   |0912|009     |11  |59            |18      |1164279     |1880656     |2015|02/10/2018 03:50:01 PM|41.828138428|-87.672782106|(41.828138428, -87.672782106)|\n",
      "|10000104|HY189964   |03/18/2015 09:25:00 PM|097XX S PRAIRIE AVE                |0460|BATTERY               |SIMPLE                      |RESIDENCE PORCH/HALLWAY       |false |false   |0511|005     |6   |49            |08B     |1179637     |1840444     |2015|02/10/2018 03:50:01 PM|41.71745472 |-87.617663257|(41.71745472, -87.617663257) |\n",
      "|10000105|HY189984   |03/18/2015 09:30:00 PM|130XX S DR MARTIN LUTHER KING JR DR|1320|CRIMINAL DAMAGE       |TO VEHICLE                  |PARKING LOT/GARAGE(NON.RESID.)|false |false   |0533|005     |9   |54            |14      |1180907     |1818839     |2015|02/10/2018 03:50:01 PM|41.658138493|-87.613672862|(41.658138493, -87.613672862)|\n",
      "|10000108|HY189719   |03/15/2015 04:10:00 PM|078XX S VINCENNES AVE              |2825|OTHER OFFENSE         |HARASSMENT BY TELEPHONE     |CTA GARAGE / OTHER PROPERTY   |false |true    |0623|006     |17  |69            |26      |1175130     |1853144     |2015|02/10/2018 03:50:01 PM|41.752406801|-87.633792381|(41.752406801, -87.633792381)|\n",
      "|10000109|HY189966   |03/18/2015 09:14:00 PM|086XX S EXCHANGE AVE               |143A|WEAPONS VIOLATION     |UNLAWFUL POSS OF HANDGUN    |DRIVEWAY - RESIDENTIAL        |true  |false   |0423|004     |10  |46            |15      |1197309     |1848290     |2015|02/10/2018 03:50:01 PM|41.738563465|-87.552678593|(41.738563465, -87.552678593)|\n",
      "|10000110|HY190056   |03/18/2015 10:50:00 PM|014XX S ASHLAND AVE                |0460|BATTERY               |SIMPLE                      |SIDEWALK                      |false |false   |1233|012     |2   |28            |08B     |1165950     |1893388     |2015|02/10/2018 03:50:01 PM|41.86304084 |-87.666288555|(41.86304084, -87.666288555) |\n",
      "|10000111|HY190019   |03/18/2015 10:31:00 PM|051XX W CHICAGO AVE                |0860|THEFT                 |RETAIL THEFT                |GAS STATION                   |true  |false   |1531|015     |37  |25            |06      |1141741     |1904839     |2015|02/10/2018 03:50:01 PM|41.894945606|-87.754874977|(41.894945606, -87.754874977)|\n",
      "|10000112|HY189725   |03/18/2015 12:55:00 PM|077XX S KINGSTON AVE               |0610|BURGLARY              |FORCIBLE ENTRY              |APARTMENT                     |false |false   |0421|004     |7   |43            |05      |1194535     |1854110     |2015|02/10/2018 03:50:01 PM|41.754602618|-87.562650741|(41.754602618, -87.562650741)|\n",
      "|10000114|HY190071   |03/18/2015 08:00:00 PM|024XX W NORTH AVE                  |0910|MOTOR VEHICLE THEFT   |AUTOMOBILE                  |OTHER                         |false |false   |1423|014     |1   |24            |07      |1159959     |1910569     |2015|02/10/2018 03:50:01 PM|41.910312648|-87.687806494|(41.910312648, -87.687806494)|\n",
      "|10000115|HY190036   |03/18/2015 09:00:00 PM|069XX S LOOMIS BLVD                |0890|THEFT                 |FROM BUILDING               |GROCERY FOOD STORE            |false |false   |0734|007     |17  |67            |06      |1168192     |1858832     |2015|02/10/2018 03:50:01 PM|41.768167414|-87.659053795|(41.768167414, -87.659053795)|\n",
      "|10000116|HY190063   |03/18/2015 10:56:00 PM|105XX S LAFAYETTE AVE              |0470|PUBLIC PEACE VIOLATION|RECKLESS CONDUCT            |ALLEY                         |true  |false   |0512|005     |34  |49            |24      |1177790     |1835106     |2015|02/10/2018 03:50:01 PM|41.70284845 |-87.624588931|(41.70284845, -87.624588931) |\n",
      "|10000117|HY190068   |03/18/2015 10:45:00 PM|087XX S KIMBARK AVE                |0890|THEFT                 |FROM BUILDING               |BAR OR TAVERN                 |false |false   |0412|004     |8   |48            |06      |1186312     |1847473     |2015|02/10/2018 03:50:01 PM|41.736588206|-87.59299436 |(41.736588206, -87.59299436) |\n",
      "+--------+-----------+----------------------+-----------------------------------+----+----------------------+----------------------------+------------------------------+------+--------+----+--------+----+--------------+--------+------------+------------+----+----------------------+------------+-------------+-----------------------------+\n",
      "only showing top 20 rows\n",
      "\n"
     ]
    }
   ],
   "source": [
    "crimedf.show(false)"
   ]
  },
  {
   "cell_type": "code",
   "execution_count": 27,
   "metadata": {},
   "outputs": [],
   "source": [
    "def monthYear(dt: String): String =\n",
    "{\n",
    "val dtp = dt.split(\" \")(0)\n",
    "val mon = dtp.split(\"/\")(0).toString\n",
    "val yr = dtp.split(\"/\")(2).toString\n",
    "\n",
    "yr + mon\n",
    "\n",
    "}"
   ]
  },
  {
   "cell_type": "code",
   "execution_count": 28,
   "metadata": {},
   "outputs": [],
   "source": [
    "val datepart = udf(monthYear _)"
   ]
  },
  {
   "cell_type": "code",
   "execution_count": 33,
   "metadata": {},
   "outputs": [],
   "source": [
    "val crimeTypes = crimedf.select(datepart($\"Updated On\").as(\"YM\"),$\"Primary Type\").\n",
    "                            groupBy(\"YM\").\n",
    "                            agg(count($\"Primary Type\")).\n",
    "                            orderBy($\"YM\",$\"count(Primary Type)\".desc)"
   ]
  },
  {
   "cell_type": "code",
   "execution_count": 34,
   "metadata": {},
   "outputs": [
    {
     "name": "stdout",
     "output_type": "stream",
     "text": [
      "+------+-------------------+\n",
      "|    YM|count(Primary Type)|\n",
      "+------+-------------------+\n",
      "|200603|                809|\n",
      "+------+-------------------+\n",
      "only showing top 1 row\n",
      "\n"
     ]
    }
   ],
   "source": [
    "crimeTypes.show(1)"
   ]
  },
  {
   "cell_type": "code",
   "execution_count": null,
   "metadata": {},
   "outputs": [],
   "source": []
  }
 ],
 "metadata": {
  "kernelspec": {
   "display_name": "Apache Toree - Scala",
   "language": "scala",
   "name": "apache_toree_scala"
  },
  "language_info": {
   "file_extension": ".scala",
   "name": "scala",
   "version": "2.11.8"
  }
 },
 "nbformat": 4,
 "nbformat_minor": 2
}
