{
 "cells": [
  {
   "cell_type": "code",
   "execution_count": 1,
   "metadata": {},
   "outputs": [],
   "source": [
    "val lines = sc.textFile(\"/Users/pulkit/data/customer-orders.csv\")"
   ]
  },
  {
   "cell_type": "code",
   "execution_count": 4,
   "metadata": {},
   "outputs": [],
   "source": [
    "val cusRdd = lines.map(x => { val y = x.split(\",\")\n",
    "                                (y(0).toInt,y(2).toFloat) }\n",
    "                                )"
   ]
  },
  {
   "cell_type": "code",
   "execution_count": 13,
   "metadata": {},
   "outputs": [],
   "source": [
    "val custTotal = cusRdd.reduceByKey((x,y) => (x + y)).sortBy(-_._2)"
   ]
  },
  {
   "cell_type": "code",
   "execution_count": 15,
   "metadata": {},
   "outputs": [
    {
     "name": "stdout",
     "output_type": "stream",
     "text": [
      "(68,6375.45)\n",
      "(73,6206.199)\n",
      "(39,6193.1104)\n",
      "(54,6065.39)\n",
      "(71,5995.66)\n",
      "(2,5994.591)\n",
      "(97,5977.1895)\n",
      "(46,5963.111)\n",
      "(42,5696.8403)\n",
      "(59,5642.8906)\n"
     ]
    }
   ],
   "source": [
    "val results = custTotal.take(10).foreach(println)"
   ]
  },
  {
   "cell_type": "code",
   "execution_count": null,
   "metadata": {},
   "outputs": [],
   "source": []
  }
 ],
 "metadata": {
  "kernelspec": {
   "display_name": "Apache Toree - Scala",
   "language": "scala",
   "name": "apache_toree_scala"
  },
  "language_info": {
   "file_extension": ".scala",
   "name": "scala",
   "version": "2.11.8"
  }
 },
 "nbformat": 4,
 "nbformat_minor": 2
}
