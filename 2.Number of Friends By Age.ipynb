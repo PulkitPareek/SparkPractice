{
 "cells": [
  {
   "cell_type": "markdown",
   "metadata": {},
   "source": [
    "# RDD Approach"
   ]
  },
  {
   "cell_type": "code",
   "execution_count": 79,
   "metadata": {},
   "outputs": [],
   "source": [
    "val lines = sc.textFile(\"/Users/pulkit/data/fakefriends.csv\")"
   ]
  },
  {
   "cell_type": "code",
   "execution_count": 80,
   "metadata": {},
   "outputs": [],
   "source": [
    "val ffRdd = lines.map(x => (x.split(\",\")(2).toInt,x.split(\",\")(3).toInt))"
   ]
  },
  {
   "cell_type": "code",
   "execution_count": 12,
   "metadata": {},
   "outputs": [],
   "source": [
    "val fByAge = ffrdd.mapValues(x => (x,1)).reduceByKey((x,y)=> (x._1 + y._1,x._2 + y._2))"
   ]
  },
  {
   "cell_type": "code",
   "execution_count": 22,
   "metadata": {},
   "outputs": [],
   "source": [
    "val fAvgAge = fByAge.mapValues(y => y._1/y._2).sortBy(x => -x._2)"
   ]
  },
  {
   "cell_type": "code",
   "execution_count": 23,
   "metadata": {},
   "outputs": [
    {
     "name": "stdout",
     "output_type": "stream",
     "text": [
      "(63,384)\n",
      "(21,350)\n",
      "(18,343)\n",
      "(52,340)\n",
      "(33,325)\n"
     ]
    }
   ],
   "source": [
    "val result = fAvgAge.take(5).foreach(println)"
   ]
  },
  {
   "cell_type": "markdown",
   "metadata": {},
   "source": [
    "# DataFrame Approach"
   ]
  },
  {
   "cell_type": "code",
   "execution_count": 54,
   "metadata": {},
   "outputs": [],
   "source": [
    "import org.apache.spark.sql.functions._\n",
    "import org.apache.spark.sql.functions.col\n",
    "val spark2 = spark\n",
    "import spark2.implicits._\n",
    "\n",
    "\n",
    "\n",
    "val fdf = spark2.read.\n",
    "                    format(\"csv\").\n",
    "                    option(\"header\",\"false\").\n",
    "                    load(\"/Users/pulkit/data/fakefriends.csv\").\n",
    "                    toDF(\"ID\",\"name\",\"age\",\"numFriends\")\n",
    "\n"
   ]
  },
  {
   "cell_type": "code",
   "execution_count": 55,
   "metadata": {},
   "outputs": [
    {
     "name": "stdout",
     "output_type": "stream",
     "text": [
      "+---+--------+---+----------+\n",
      "| ID|    name|age|numFriends|\n",
      "+---+--------+---+----------+\n",
      "|  0|    Will| 33|       385|\n",
      "|  1|Jean-Luc| 26|         2|\n",
      "|  2|    Hugh| 55|       221|\n",
      "|  3|  Deanna| 40|       465|\n",
      "+---+--------+---+----------+\n",
      "only showing top 4 rows\n",
      "\n"
     ]
    }
   ],
   "source": [
    "fdf.show(4)"
   ]
  },
  {
   "cell_type": "code",
   "execution_count": 77,
   "metadata": {},
   "outputs": [],
   "source": [
    "val fAvgAgeDF = fdf.groupBy(\"age\").\n",
    "                    agg(sum(\"numFriends\"),count(\"age\")).\n",
    "                    select($\"age\".as(\"Age\"),round(($\"sum(numFriends)\" / $\"count(age)\")).as(\"AvgAgeByFreinds\") )"
   ]
  },
  {
   "cell_type": "code",
   "execution_count": 78,
   "metadata": {},
   "outputs": [
    {
     "name": "stdout",
     "output_type": "stream",
     "text": [
      "+---+---------------+\n",
      "|Age|AvgAgeByFreinds|\n",
      "+---+---------------+\n",
      "| 51|          302.0|\n",
      "| 54|          278.0|\n",
      "| 69|          235.0|\n",
      "| 29|          216.0|\n",
      "| 42|          304.0|\n",
      "| 64|          281.0|\n",
      "| 30|          236.0|\n",
      "| 34|          246.0|\n",
      "| 59|          220.0|\n",
      "| 22|          206.0|\n",
      "| 28|          209.0|\n",
      "| 35|          212.0|\n",
      "| 52|          341.0|\n",
      "| 47|          233.0|\n",
      "| 43|          231.0|\n",
      "| 31|          267.0|\n",
      "| 18|          343.0|\n",
      "| 27|          228.0|\n",
      "| 61|          256.0|\n",
      "| 26|          242.0|\n",
      "+---+---------------+\n",
      "only showing top 20 rows\n",
      "\n"
     ]
    }
   ],
   "source": [
    "fAvgAgeDF.show"
   ]
  },
  {
   "cell_type": "code",
   "execution_count": null,
   "metadata": {},
   "outputs": [],
   "source": []
  }
 ],
 "metadata": {
  "kernelspec": {
   "display_name": "Apache Toree - Scala",
   "language": "scala",
   "name": "apache_toree_scala"
  },
  "language_info": {
   "file_extension": ".scala",
   "name": "scala",
   "version": "2.11.8"
  }
 },
 "nbformat": 4,
 "nbformat_minor": 2
}
